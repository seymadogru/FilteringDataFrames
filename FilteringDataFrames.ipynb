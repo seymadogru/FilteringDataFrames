{
 "cells": [
  {
   "cell_type": "markdown",
   "id": "1dbb322e",
   "metadata": {},
   "source": [
    "For Pandas assignments, you are going to use Titanic (train.csv) dataset. Download the dataset and load to a DataFrame.\n",
    "\n",
    "(1) By using conditional selection methods, calculate the survival rate for all passengers under 30 years old."
   ]
  },
  {
   "cell_type": "code",
   "execution_count": 3,
   "id": "97eb7aa3",
   "metadata": {},
   "outputs": [
    {
     "name": "stdout",
     "output_type": "stream",
     "text": [
      "hayatta kalan kisi sayısı: 156\n",
      "herkesin sayısı: 891\n",
      "Hayatta kalma oranı: 0.1750841750841751\n"
     ]
    }
   ],
   "source": [
    "import pandas as pd\n",
    "import numpy as np\n",
    "\n",
    "myDataFile= 'train.csv'\n",
    "myData = pd.read_csv(myDataFile)\n",
    "myDataFrame = pd.DataFrame(myData)\n",
    "\n",
    "istenen = myDataFrame[(myDataFrame[\"Age\"]<30) & (myDataFrame[\"Survived\"]==1)]\n",
    "index = istenen.index\n",
    "hayatta_kalmislar = len(index) \n",
    "print(\"hayatta kalan kisi sayısı:\",hayatta_kalmislar)\n",
    "index2 = myDataFrame.index\n",
    "herkes= len(index2)\n",
    "print(\"herkesin sayısı:\",herkes)\n",
    "print(\"Hayatta kalma oranı:\",hayatta_kalmislar/herkes)"
   ]
  },
  {
   "cell_type": "markdown",
   "id": "7c982228",
   "metadata": {},
   "source": [
    "Group by embarkation port and print values. (Notice that you get unique values with this.)"
   ]
  },
  {
   "cell_type": "code",
   "execution_count": 5,
   "id": "342fc72f",
   "metadata": {},
   "outputs": [
    {
     "name": "stdout",
     "output_type": "stream",
     "text": [
      "erkeklerin hayatta kalma oranı: 0.122334455667789\n",
      "kadınların hayatta kalma oranı:  0.2615039281705948\n"
     ]
    }
   ],
   "source": [
    "import pandas as pd\n",
    "import numpy as np\n",
    "\n",
    "myDataFile= 'train.csv'\n",
    "myData = pd.read_csv(myDataFile)\n",
    "myDataFrame = pd.DataFrame(myData)\n",
    "index2 = myDataFrame.index\n",
    "herkes= len(index2)\n",
    "\n",
    "maleAndSurvived= myDataFrame[(myDataFrame[\"Sex\"]==\"male\") & (myDataFrame[\"Survived\"]==1)]\n",
    "femaleAndSurvived= myDataFrame[(myDataFrame[\"Sex\"]==\"female\") & (myDataFrame[\"Survived\"]==1)]\n",
    "\n",
    "print(\"erkeklerin hayatta kalma oranı:\" ,len(maleAndSurvived)/herkes)\n",
    "print(\"kadınların hayatta kalma oranı: \" ,len(femaleAndSurvived)/herkes)"
   ]
  },
  {
   "cell_type": "code",
   "execution_count": null,
   "id": "cb4bff9d",
   "metadata": {},
   "outputs": [],
   "source": []
  }
 ],
 "metadata": {
  "kernelspec": {
   "display_name": "Python 3",
   "language": "python",
   "name": "python3"
  },
  "language_info": {
   "codemirror_mode": {
    "name": "ipython",
    "version": 3
   },
   "file_extension": ".py",
   "mimetype": "text/x-python",
   "name": "python",
   "nbconvert_exporter": "python",
   "pygments_lexer": "ipython3",
   "version": "3.8.8"
  }
 },
 "nbformat": 4,
 "nbformat_minor": 5
}
